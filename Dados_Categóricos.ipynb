{
  "nbformat": 4,
  "nbformat_minor": 0,
  "metadata": {
    "colab": {
      "provenance": [],
      "authorship_tag": "ABX9TyM63k3zGCAtfonDLqAs3I3J",
      "include_colab_link": true
    },
    "kernelspec": {
      "name": "python3",
      "display_name": "Python 3"
    },
    "language_info": {
      "name": "python"
    }
  },
  "cells": [
    {
      "cell_type": "markdown",
      "metadata": {
        "id": "view-in-github",
        "colab_type": "text"
      },
      "source": [
        "<a href=\"https://colab.research.google.com/github/Epilef86/Clusterizacao_/blob/main/Dados_Categ%C3%B3ricos.ipynb\" target=\"_parent\"><img src=\"https://colab.research.google.com/assets/colab-badge.svg\" alt=\"Open In Colab\"/></a>"
      ]
    },
    {
      "cell_type": "markdown",
      "source": [
        "![image.png](data:image/png;base64,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)"
      ],
      "metadata": {
        "id": "XZmY_cfkx0G2"
      }
    },
    {
      "cell_type": "markdown",
      "source": [
        "Kmodes lembra um pouco KMeans sendo que não tem como pegar a média de dados categóricos. Ao invés de computar a média, vai computar a moda das observações. Ele funciona apenas para dados categóricos."
      ],
      "metadata": {
        "id": "Fvy78USGtY5d"
      }
    },
    {
      "cell_type": "markdown",
      "source": [
        "Kprototyes é pra dados mistos, ou seja, que tenha dados categóricos e numéricos. Ele une as duas abordagens (KMeans e KModes)"
      ],
      "metadata": {
        "id": "86QPfvdAwndG"
      }
    },
    {
      "cell_type": "markdown",
      "source": [
        "Hierarquical Clustering com Glower quase nunca usada. Na métrica de distanciamento da dissimilaridade se coloca a distância do Glower, que é uma distância que considera tanto a parte numérica contínua como dados categóricos. "
      ],
      "metadata": {
        "id": "zCB7Q1nNw9RV"
      }
    },
    {
      "cell_type": "markdown",
      "source": [
        "![image.png](data:image/png;base64,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)"
      ],
      "metadata": {
        "id": "qjBhg3l7xhS1"
      }
    },
    {
      "cell_type": "markdown",
      "source": [
        "Essa abordagens acima vê o quão próxima são as variáveis entre si, quão associada essas categorias das variáveis categóricas está uma da outra e ela gera componentes numéricos pros dados categóricos. Podemos utilizar essa técnica, existem uma biblioteca chamada prints ?? Pega esses valores para colocar num KMeans, numa clusteriação convencional para gerar os clusters pra cada observação"
      ],
      "metadata": {
        "id": "MpW0Y2lLx6p8"
      }
    },
    {
      "cell_type": "markdown",
      "source": [
        "FAMD é factor Analysis os Mixed Data, que seria o PCA equivalente para mixed data. O PCA por si só, alguns estudiosos não gostam"
      ],
      "metadata": {
        "id": "znVJ2X9Vy0yo"
      }
    },
    {
      "cell_type": "code",
      "source": [
        "%%capture\n",
        "%pip install kmodes"
      ],
      "metadata": {
        "id": "kguu-iAnz410"
      },
      "execution_count": 29,
      "outputs": []
    },
    {
      "cell_type": "code",
      "source": [
        "# Data wrangling\n",
        "import numpy as np\n",
        "import pandas as pd\n",
        "\n",
        "# Dataviz\n",
        "import seaborn as sns\n",
        "import matplotlib.pyplot as plt\n",
        "import plotly.express as px\n",
        "import plotly.graph_objects as go\n",
        "\n",
        "from yellowbrick.cluster import KElbowVisualizer, SilhouetteVisualizer, InterclusterDistance, kelbow_visualizer, silhouette_visualizer\n",
        "\n",
        "## -- Machine learning -- ##\n",
        "from sklearn import datasets\n",
        "from sklearn.mixture import GaussianMixture\n",
        "from sklearn.cluster import KMeans, DBSCAN, MeanShift\n",
        "from sklearn.cluster import k_means, dbscan, mean_shift, estimate_bandwidth\n",
        "from sklearn.metrics import silhouette_score, davies_bouldin_score, calinski_harabasz_score\n",
        "from sklearn.decomposition import PCA\n",
        "from sklearn.preprocessing import scale\n",
        "\n",
        "from sklearn.cluster import AgglomerativeClustering\n",
        "from scipy.cluster.hierarchy import linkage, dendrogram, fcluster\n",
        "\n",
        "from kmodes.kmodes import KModes            # clustering categorical data\n",
        "from kmodes.kprototypes import KPrototypes  # clustering mixed data\n",
        "\n",
        "# Didatic purposes\n",
        "import string\n",
        "from ipywidgets import interact"
      ],
      "metadata": {
        "id": "pJu8_m8N0Gou"
      },
      "execution_count": 30,
      "outputs": []
    },
    {
      "cell_type": "code",
      "source": [
        "# https://matplotlib.org/stable/tutorials/introductory/customizing.html\n",
        "sns.set_theme(\n",
        "    context='talk',\n",
        "    style='ticks',\n",
        "    font_scale=.8,\n",
        "    palette='tab10',\n",
        "    rc={\n",
        "        'figure.figsize': (12,8),\n",
        "        'axes.grid': True,\n",
        "        'grid.alpha': .2,\n",
        "        'axes.titlesize': 'x-large',\n",
        "        'axes.titleweight': 'bold',\n",
        "        'axes.titlepad': 20,\n",
        "    }\n",
        ")\n",
        "\n",
        "scatter_kwargs = dict(palette='viridis', alpha=0.8, linewidth=0)"
      ],
      "metadata": {
        "id": "lbK5Uheqzbp1"
      },
      "execution_count": 31,
      "outputs": []
    },
    {
      "cell_type": "code",
      "source": [
        "from yellowbrick.datasets import load_mushroom"
      ],
      "metadata": {
        "id": "Bh9reRg5zlfo"
      },
      "execution_count": 32,
      "outputs": []
    },
    {
      "cell_type": "markdown",
      "source": [
        "Aqui vai retornar dois dataframes, x que são as características e o y que é qual classe esse cogumelo pertence. Como não estamos interessado em fazer classificação, vamos ignorar essas classes e pegar só o primeiro elemento que é o dataset das features, load_mushroom()[0]."
      ],
      "metadata": {
        "id": "y7HBahIh1QC3"
      }
    },
    {
      "cell_type": "markdown",
      "source": [
        "No dataset abaixo vemos dados categóricos: cor do cogumelho, superfície e a forma."
      ],
      "metadata": {
        "id": "G65jgkug2D2b"
      }
    },
    {
      "cell_type": "code",
      "source": [
        "# Load data\n",
        "df_mushroom = load_mushroom()[0]\n",
        "df_mushroom"
      ],
      "metadata": {
        "colab": {
          "base_uri": "https://localhost:8080/",
          "height": 424
        },
        "id": "SjFHwrz81N_O",
        "outputId": "4dc44b1c-5855-4c0a-b9ff-d6c5b434d9ee"
      },
      "execution_count": 33,
      "outputs": [
        {
          "output_type": "execute_result",
          "data": {
            "text/plain": [
              "        shape surface   color\n",
              "0      convex  smooth  yellow\n",
              "1        bell  smooth   white\n",
              "2      convex   scaly   white\n",
              "3      convex  smooth    gray\n",
              "4      convex   scaly  yellow\n",
              "...       ...     ...     ...\n",
              "8118  knobbed  smooth   brown\n",
              "8119   convex  smooth   brown\n",
              "8120     flat  smooth   brown\n",
              "8121  knobbed   scaly   brown\n",
              "8122   convex  smooth   brown\n",
              "\n",
              "[8123 rows x 3 columns]"
            ],
            "text/html": [
              "\n",
              "  <div id=\"df-dad54e0a-7069-4f0e-9285-90c5494edff7\">\n",
              "    <div class=\"colab-df-container\">\n",
              "      <div>\n",
              "<style scoped>\n",
              "    .dataframe tbody tr th:only-of-type {\n",
              "        vertical-align: middle;\n",
              "    }\n",
              "\n",
              "    .dataframe tbody tr th {\n",
              "        vertical-align: top;\n",
              "    }\n",
              "\n",
              "    .dataframe thead th {\n",
              "        text-align: right;\n",
              "    }\n",
              "</style>\n",
              "<table border=\"1\" class=\"dataframe\">\n",
              "  <thead>\n",
              "    <tr style=\"text-align: right;\">\n",
              "      <th></th>\n",
              "      <th>shape</th>\n",
              "      <th>surface</th>\n",
              "      <th>color</th>\n",
              "    </tr>\n",
              "  </thead>\n",
              "  <tbody>\n",
              "    <tr>\n",
              "      <th>0</th>\n",
              "      <td>convex</td>\n",
              "      <td>smooth</td>\n",
              "      <td>yellow</td>\n",
              "    </tr>\n",
              "    <tr>\n",
              "      <th>1</th>\n",
              "      <td>bell</td>\n",
              "      <td>smooth</td>\n",
              "      <td>white</td>\n",
              "    </tr>\n",
              "    <tr>\n",
              "      <th>2</th>\n",
              "      <td>convex</td>\n",
              "      <td>scaly</td>\n",
              "      <td>white</td>\n",
              "    </tr>\n",
              "    <tr>\n",
              "      <th>3</th>\n",
              "      <td>convex</td>\n",
              "      <td>smooth</td>\n",
              "      <td>gray</td>\n",
              "    </tr>\n",
              "    <tr>\n",
              "      <th>4</th>\n",
              "      <td>convex</td>\n",
              "      <td>scaly</td>\n",
              "      <td>yellow</td>\n",
              "    </tr>\n",
              "    <tr>\n",
              "      <th>...</th>\n",
              "      <td>...</td>\n",
              "      <td>...</td>\n",
              "      <td>...</td>\n",
              "    </tr>\n",
              "    <tr>\n",
              "      <th>8118</th>\n",
              "      <td>knobbed</td>\n",
              "      <td>smooth</td>\n",
              "      <td>brown</td>\n",
              "    </tr>\n",
              "    <tr>\n",
              "      <th>8119</th>\n",
              "      <td>convex</td>\n",
              "      <td>smooth</td>\n",
              "      <td>brown</td>\n",
              "    </tr>\n",
              "    <tr>\n",
              "      <th>8120</th>\n",
              "      <td>flat</td>\n",
              "      <td>smooth</td>\n",
              "      <td>brown</td>\n",
              "    </tr>\n",
              "    <tr>\n",
              "      <th>8121</th>\n",
              "      <td>knobbed</td>\n",
              "      <td>scaly</td>\n",
              "      <td>brown</td>\n",
              "    </tr>\n",
              "    <tr>\n",
              "      <th>8122</th>\n",
              "      <td>convex</td>\n",
              "      <td>smooth</td>\n",
              "      <td>brown</td>\n",
              "    </tr>\n",
              "  </tbody>\n",
              "</table>\n",
              "<p>8123 rows × 3 columns</p>\n",
              "</div>\n",
              "      <button class=\"colab-df-convert\" onclick=\"convertToInteractive('df-dad54e0a-7069-4f0e-9285-90c5494edff7')\"\n",
              "              title=\"Convert this dataframe to an interactive table.\"\n",
              "              style=\"display:none;\">\n",
              "        \n",
              "  <svg xmlns=\"http://www.w3.org/2000/svg\" height=\"24px\"viewBox=\"0 0 24 24\"\n",
              "       width=\"24px\">\n",
              "    <path d=\"M0 0h24v24H0V0z\" fill=\"none\"/>\n",
              "    <path d=\"M18.56 5.44l.94 2.06.94-2.06 2.06-.94-2.06-.94-.94-2.06-.94 2.06-2.06.94zm-11 1L8.5 8.5l.94-2.06 2.06-.94-2.06-.94L8.5 2.5l-.94 2.06-2.06.94zm10 10l.94 2.06.94-2.06 2.06-.94-2.06-.94-.94-2.06-.94 2.06-2.06.94z\"/><path d=\"M17.41 7.96l-1.37-1.37c-.4-.4-.92-.59-1.43-.59-.52 0-1.04.2-1.43.59L10.3 9.45l-7.72 7.72c-.78.78-.78 2.05 0 2.83L4 21.41c.39.39.9.59 1.41.59.51 0 1.02-.2 1.41-.59l7.78-7.78 2.81-2.81c.8-.78.8-2.07 0-2.86zM5.41 20L4 18.59l7.72-7.72 1.47 1.35L5.41 20z\"/>\n",
              "  </svg>\n",
              "      </button>\n",
              "      \n",
              "  <style>\n",
              "    .colab-df-container {\n",
              "      display:flex;\n",
              "      flex-wrap:wrap;\n",
              "      gap: 12px;\n",
              "    }\n",
              "\n",
              "    .colab-df-convert {\n",
              "      background-color: #E8F0FE;\n",
              "      border: none;\n",
              "      border-radius: 50%;\n",
              "      cursor: pointer;\n",
              "      display: none;\n",
              "      fill: #1967D2;\n",
              "      height: 32px;\n",
              "      padding: 0 0 0 0;\n",
              "      width: 32px;\n",
              "    }\n",
              "\n",
              "    .colab-df-convert:hover {\n",
              "      background-color: #E2EBFA;\n",
              "      box-shadow: 0px 1px 2px rgba(60, 64, 67, 0.3), 0px 1px 3px 1px rgba(60, 64, 67, 0.15);\n",
              "      fill: #174EA6;\n",
              "    }\n",
              "\n",
              "    [theme=dark] .colab-df-convert {\n",
              "      background-color: #3B4455;\n",
              "      fill: #D2E3FC;\n",
              "    }\n",
              "\n",
              "    [theme=dark] .colab-df-convert:hover {\n",
              "      background-color: #434B5C;\n",
              "      box-shadow: 0px 1px 3px 1px rgba(0, 0, 0, 0.15);\n",
              "      filter: drop-shadow(0px 1px 2px rgba(0, 0, 0, 0.3));\n",
              "      fill: #FFFFFF;\n",
              "    }\n",
              "  </style>\n",
              "\n",
              "      <script>\n",
              "        const buttonEl =\n",
              "          document.querySelector('#df-dad54e0a-7069-4f0e-9285-90c5494edff7 button.colab-df-convert');\n",
              "        buttonEl.style.display =\n",
              "          google.colab.kernel.accessAllowed ? 'block' : 'none';\n",
              "\n",
              "        async function convertToInteractive(key) {\n",
              "          const element = document.querySelector('#df-dad54e0a-7069-4f0e-9285-90c5494edff7');\n",
              "          const dataTable =\n",
              "            await google.colab.kernel.invokeFunction('convertToInteractive',\n",
              "                                                     [key], {});\n",
              "          if (!dataTable) return;\n",
              "\n",
              "          const docLinkHtml = 'Like what you see? Visit the ' +\n",
              "            '<a target=\"_blank\" href=https://colab.research.google.com/notebooks/data_table.ipynb>data table notebook</a>'\n",
              "            + ' to learn more about interactive tables.';\n",
              "          element.innerHTML = '';\n",
              "          dataTable['output_type'] = 'display_data';\n",
              "          await google.colab.output.renderOutput(dataTable, element);\n",
              "          const docLink = document.createElement('div');\n",
              "          docLink.innerHTML = docLinkHtml;\n",
              "          element.appendChild(docLink);\n",
              "        }\n",
              "      </script>\n",
              "    </div>\n",
              "  </div>\n",
              "  "
            ]
          },
          "metadata": {},
          "execution_count": 33
        }
      ]
    },
    {
      "cell_type": "markdown",
      "source": [
        "Dados essas características quero clusterizar essas informações. Para isso posso utilizar KModes. O KModes não é do sklearn, ele assim como KMeans precisa da quantidade de clusters, o default é 8, vou colocar 4. "
      ],
      "metadata": {
        "id": "fOOqzhkB2a14"
      }
    },
    {
      "cell_type": "code",
      "source": [
        "# Clustering with KModes\n",
        "model = KModes(n_clusters=4)\n",
        "labels = model.fit_predict(df_mushroom)\n",
        "print(labels)\n",
        "print(model.cost_)"
      ],
      "metadata": {
        "colab": {
          "base_uri": "https://localhost:8080/"
        },
        "id": "a0C6R5Zl2jdg",
        "outputId": "cd193a04-8e69-44fa-b8cc-b858c82be1e8"
      },
      "execution_count": 34,
      "outputs": [
        {
          "output_type": "stream",
          "name": "stdout",
          "text": [
            "[0 1 0 ... 1 0 0]\n",
            "8851.0\n"
          ]
        }
      ]
    },
    {
      "cell_type": "markdown",
      "source": [
        "No modelo do KMeans a gente tem um atributo que após treinar o modelo que é a inércia do modelo WCSS que é a variância total somada, de forma similar ao KMeans temos os cost, que serve pra separar as observações em clusters então ele vai funconar de forma similar a inércia do KMeans. Esse valor 8851.0\n",
        " isolado não quer dizer nada, mas irei comparar com outros clusters e ver qual melhor clusters que fica pra gente, como se fosse a curva do cotovelo."
      ],
      "metadata": {
        "id": "5XqUqpDS2kV7"
      }
    },
    {
      "cell_type": "markdown",
      "source": [
        "Para capturar os clusters, vamos fazer o seguinte:"
      ],
      "metadata": {
        "id": "2B-7HzS23-Hh"
      }
    },
    {
      "cell_type": "code",
      "source": [
        "# Avaliando modelo\n",
        "custos = [KModes(n_clusters=K).fit(df_mushroom).cost_ for K in range(2,11)]\n",
        "custos"
      ],
      "metadata": {
        "colab": {
          "base_uri": "https://localhost:8080/"
        },
        "id": "drCQkJJA4EiJ",
        "outputId": "0f8ea43d-8a95-46fd-8819-e633052c86b5"
      },
      "execution_count": 35,
      "outputs": [
        {
          "output_type": "execute_result",
          "data": {
            "text/plain": [
              "[11560.0, 10343.0, 8851.0, 8111.0, 7203.0, 6708.0, 6416.0, 6190.0, 5882.0]"
            ]
          },
          "metadata": {},
          "execution_count": 35
        }
      ]
    },
    {
      "cell_type": "markdown",
      "source": [
        "Vamos plotar isso..."
      ],
      "metadata": {
        "id": "-LurjLFU4Fm6"
      }
    },
    {
      "cell_type": "code",
      "source": [
        "pd.Series(custos, index=range(2,11)).plot()\n",
        "plt.xlabel('K')\n",
        "plt.ylabel('custo')\n",
        "plt.show()"
      ],
      "metadata": {
        "colab": {
          "base_uri": "https://localhost:8080/",
          "height": 513
        },
        "id": "pNTf_GAW4b6p",
        "outputId": "57e8e6f3-1864-45f7-a97c-1aa381226468"
      },
      "execution_count": 36,
      "outputs": [
        {
          "output_type": "display_data",
          "data": {
            "text/plain": [
              "<Figure size 864x576 with 1 Axes>"
            ],
            "image/png": "[encoded data removed]"
          },
          "metadata": {}
        }
      ]
    },
    {
      "cell_type": "markdown",
      "source": [
        "A quantidade ideal pra esse conjunto de dados seria entre k= 6 e 7 pq reduz bastante o custo. 7 seria uma boa opção então separa os clusters e faz a análise descritiva desses 7 clusters, qual o valor que mais aparece, ou seja, a moda."
      ],
      "metadata": {
        "id": "72Nt3tXI6NsD"
      }
    },
    {
      "cell_type": "markdown",
      "source": [
        "DADOS MISTOS "
      ],
      "metadata": {
        "id": "zVPOOmPb7QSX"
      }
    },
    {
      "cell_type": "markdown",
      "source": [
        "Vou pegar dados desse link sobre diabetes\n",
        "\n",
        "https://www.kaggle.com/datasets/johnsmith88/heart-disease-dataset"
      ],
      "metadata": {
        "id": "7C8-2zkv7RxC"
      }
    },
    {
      "cell_type": "code",
      "source": [
        "df_diabetes = pd.read_csv('https://raw.githubusercontent.com/Ekeany/Clustering-Mixed-Data/main/data/heart.csv')\n",
        "df_diabetes = df_diabetes.drop(columns='target')\n",
        "df_diabetes"
      ],
      "metadata": {
        "colab": {
          "base_uri": "https://localhost:8080/",
          "height": 424
        },
        "id": "qVY7A_pO-PDH",
        "outputId": "889128c1-ae2e-4e64-8bc5-51ef3548409f"
      },
      "execution_count": 37,
      "outputs": [
        {
          "output_type": "execute_result",
          "data": {
            "text/plain": [
              "     age  sex  cp  trestbps  chol  fbs  restecg  thalach  exang  oldpeak  \\\n",
              "0     63    1   3       145   233    1        0      150      0      2.3   \n",
              "1     37    1   2       130   250    0        1      187      0      3.5   \n",
              "2     41    0   1       130   204    0        0      172      0      1.4   \n",
              "3     56    1   1       120   236    0        1      178      0      0.8   \n",
              "4     57    0   0       120   354    0        1      163      1      0.6   \n",
              "..   ...  ...  ..       ...   ...  ...      ...      ...    ...      ...   \n",
              "298   57    0   0       140   241    0        1      123      1      0.2   \n",
              "299   45    1   3       110   264    0        1      132      0      1.2   \n",
              "300   68    1   0       144   193    1        1      141      0      3.4   \n",
              "301   57    1   0       130   131    0        1      115      1      1.2   \n",
              "302   57    0   1       130   236    0        0      174      0      0.0   \n",
              "\n",
              "     slope  ca  thal  \n",
              "0        0   0     1  \n",
              "1        0   0     2  \n",
              "2        2   0     2  \n",
              "3        2   0     2  \n",
              "4        2   0     2  \n",
              "..     ...  ..   ...  \n",
              "298      1   0     3  \n",
              "299      1   0     3  \n",
              "300      1   2     3  \n",
              "301      1   1     3  \n",
              "302      1   1     2  \n",
              "\n",
              "[303 rows x 13 columns]"
            ],
            "text/html": [
              "\n",
              "  <div id=\"df-57b80625-1d1f-44fc-ae80-ed14e7869510\">\n",
              "    <div class=\"colab-df-container\">\n",
              "      <div>\n",
              "<style scoped>\n",
              "    .dataframe tbody tr th:only-of-type {\n",
              "        vertical-align: middle;\n",
              "    }\n",
              "\n",
              "    .dataframe tbody tr th {\n",
              "        vertical-align: top;\n",
              "    }\n",
              "\n",
              "    .dataframe thead th {\n",
              "        text-align: right;\n",
              "    }\n",
              "</style>\n",
              "<table border=\"1\" class=\"dataframe\">\n",
              "  <thead>\n",
              "    <tr style=\"text-align: right;\">\n",
              "      <th></th>\n",
              "      <th>age</th>\n",
              "      <th>sex</th>\n",
              "      <th>cp</th>\n",
              "      <th>trestbps</th>\n",
              "      <th>chol</th>\n",
              "      <th>fbs</th>\n",
              "      <th>restecg</th>\n",
              "      <th>thalach</th>\n",
              "      <th>exang</th>\n",
              "      <th>oldpeak</th>\n",
              "      <th>slope</th>\n",
              "      <th>ca</th>\n",
              "      <th>thal</th>\n",
              "    </tr>\n",
              "  </thead>\n",
              "  <tbody>\n",
              "    <tr>\n",
              "      <th>0</th>\n",
              "      <td>63</td>\n",
              "      <td>1</td>\n",
              "      <td>3</td>\n",
              "      <td>145</td>\n",
              "      <td>233</td>\n",
              "      <td>1</td>\n",
              "      <td>0</td>\n",
              "      <td>150</td>\n",
              "      <td>0</td>\n",
              "      <td>2.3</td>\n",
              "      <td>0</td>\n",
              "      <td>0</td>\n",
              "      <td>1</td>\n",
              "    </tr>\n",
              "    <tr>\n",
              "      <th>1</th>\n",
              "      <td>37</td>\n",
              "      <td>1</td>\n",
              "      <td>2</td>\n",
              "      <td>130</td>\n",
              "      <td>250</td>\n",
              "      <td>0</td>\n",
              "      <td>1</td>\n",
              "      <td>187</td>\n",
              "      <td>0</td>\n",
              "      <td>3.5</td>\n",
              "      <td>0</td>\n",
              "      <td>0</td>\n",
              "      <td>2</td>\n",
              "    </tr>\n",
              "    <tr>\n",
              "      <th>2</th>\n",
              "      <td>41</td>\n",
              "      <td>0</td>\n",
              "      <td>1</td>\n",
              "      <td>130</td>\n",
              "      <td>204</td>\n",
              "      <td>0</td>\n",
              "      <td>0</td>\n",
              "      <td>172</td>\n",
              "      <td>0</td>\n",
              "      <td>1.4</td>\n",
              "      <td>2</td>\n",
              "      <td>0</td>\n",
              "      <td>2</td>\n",
              "    </tr>\n",
              "    <tr>\n",
              "      <th>3</th>\n",
              "      <td>56</td>\n",
              "      <td>1</td>\n",
              "      <td>1</td>\n",
              "      <td>120</td>\n",
              "      <td>236</td>\n",
              "      <td>0</td>\n",
              "      <td>1</td>\n",
              "      <td>178</td>\n",
              "      <td>0</td>\n",
              "      <td>0.8</td>\n",
              "      <td>2</td>\n",
              "      <td>0</td>\n",
              "      <td>2</td>\n",
              "    </tr>\n",
              "    <tr>\n",
              "      <th>4</th>\n",
              "      <td>57</td>\n",
              "      <td>0</td>\n",
              "      <td>0</td>\n",
              "      <td>120</td>\n",
              "      <td>354</td>\n",
              "      <td>0</td>\n",
              "      <td>1</td>\n",
              "      <td>163</td>\n",
              "      <td>1</td>\n",
              "      <td>0.6</td>\n",
              "      <td>2</td>\n",
              "      <td>0</td>\n",
              "      <td>2</td>\n",
              "    </tr>\n",
              "    <tr>\n",
              "      <th>...</th>\n",
              "      <td>...</td>\n",
              "      <td>...</td>\n",
              "      <td>...</td>\n",
              "      <td>...</td>\n",
              "      <td>...</td>\n",
              "      <td>...</td>\n",
              "      <td>...</td>\n",
              "      <td>...</td>\n",
              "      <td>...</td>\n",
              "      <td>...</td>\n",
              "      <td>...</td>\n",
              "      <td>...</td>\n",
              "      <td>...</td>\n",
              "    </tr>\n",
              "    <tr>\n",
              "      <th>298</th>\n",
              "      <td>57</td>\n",
              "      <td>0</td>\n",
              "      <td>0</td>\n",
              "      <td>140</td>\n",
              "      <td>241</td>\n",
              "      <td>0</td>\n",
              "      <td>1</td>\n",
              "      <td>123</td>\n",
              "      <td>1</td>\n",
              "      <td>0.2</td>\n",
              "      <td>1</td>\n",
              "      <td>0</td>\n",
              "      <td>3</td>\n",
              "    </tr>\n",
              "    <tr>\n",
              "      <th>299</th>\n",
              "      <td>45</td>\n",
              "      <td>1</td>\n",
              "      <td>3</td>\n",
              "      <td>110</td>\n",
              "      <td>264</td>\n",
              "      <td>0</td>\n",
              "      <td>1</td>\n",
              "      <td>132</td>\n",
              "      <td>0</td>\n",
              "      <td>1.2</td>\n",
              "      <td>1</td>\n",
              "      <td>0</td>\n",
              "      <td>3</td>\n",
              "    </tr>\n",
              "    <tr>\n",
              "      <th>300</th>\n",
              "      <td>68</td>\n",
              "      <td>1</td>\n",
              "      <td>0</td>\n",
              "      <td>144</td>\n",
              "      <td>193</td>\n",
              "      <td>1</td>\n",
              "      <td>1</td>\n",
              "      <td>141</td>\n",
              "      <td>0</td>\n",
              "      <td>3.4</td>\n",
              "      <td>1</td>\n",
              "      <td>2</td>\n",
              "      <td>3</td>\n",
              "    </tr>\n",
              "    <tr>\n",
              "      <th>301</th>\n",
              "      <td>57</td>\n",
              "      <td>1</td>\n",
              "      <td>0</td>\n",
              "      <td>130</td>\n",
              "      <td>131</td>\n",
              "      <td>0</td>\n",
              "      <td>1</td>\n",
              "      <td>115</td>\n",
              "      <td>1</td>\n",
              "      <td>1.2</td>\n",
              "      <td>1</td>\n",
              "      <td>1</td>\n",
              "      <td>3</td>\n",
              "    </tr>\n",
              "    <tr>\n",
              "      <th>302</th>\n",
              "      <td>57</td>\n",
              "      <td>0</td>\n",
              "      <td>1</td>\n",
              "      <td>130</td>\n",
              "      <td>236</td>\n",
              "      <td>0</td>\n",
              "      <td>0</td>\n",
              "      <td>174</td>\n",
              "      <td>0</td>\n",
              "      <td>0.0</td>\n",
              "      <td>1</td>\n",
              "      <td>1</td>\n",
              "      <td>2</td>\n",
              "    </tr>\n",
              "  </tbody>\n",
              "</table>\n",
              "<p>303 rows × 13 columns</p>\n",
              "</div>\n",
              "      <button class=\"colab-df-convert\" onclick=\"convertToInteractive('df-57b80625-1d1f-44fc-ae80-ed14e7869510')\"\n",
              "              title=\"Convert this dataframe to an interactive table.\"\n",
              "              style=\"display:none;\">\n",
              "        \n",
              "  <svg xmlns=\"http://www.w3.org/2000/svg\" height=\"24px\"viewBox=\"0 0 24 24\"\n",
              "       width=\"24px\">\n",
              "    <path d=\"M0 0h24v24H0V0z\" fill=\"none\"/>\n",
              "    <path d=\"M18.56 5.44l.94 2.06.94-2.06 2.06-.94-2.06-.94-.94-2.06-.94 2.06-2.06.94zm-11 1L8.5 8.5l.94-2.06 2.06-.94-2.06-.94L8.5 2.5l-.94 2.06-2.06.94zm10 10l.94 2.06.94-2.06 2.06-.94-2.06-.94-.94-2.06-.94 2.06-2.06.94z\"/><path d=\"M17.41 7.96l-1.37-1.37c-.4-.4-.92-.59-1.43-.59-.52 0-1.04.2-1.43.59L10.3 9.45l-7.72 7.72c-.78.78-.78 2.05 0 2.83L4 21.41c.39.39.9.59 1.41.59.51 0 1.02-.2 1.41-.59l7.78-7.78 2.81-2.81c.8-.78.8-2.07 0-2.86zM5.41 20L4 18.59l7.72-7.72 1.47 1.35L5.41 20z\"/>\n",
              "  </svg>\n",
              "      </button>\n",
              "      \n",
              "  <style>\n",
              "    .colab-df-container {\n",
              "      display:flex;\n",
              "      flex-wrap:wrap;\n",
              "      gap: 12px;\n",
              "    }\n",
              "\n",
              "    .colab-df-convert {\n",
              "      background-color: #E8F0FE;\n",
              "      border: none;\n",
              "      border-radius: 50%;\n",
              "      cursor: pointer;\n",
              "      display: none;\n",
              "      fill: #1967D2;\n",
              "      height: 32px;\n",
              "      padding: 0 0 0 0;\n",
              "      width: 32px;\n",
              "    }\n",
              "\n",
              "    .colab-df-convert:hover {\n",
              "      background-color: #E2EBFA;\n",
              "      box-shadow: 0px 1px 2px rgba(60, 64, 67, 0.3), 0px 1px 3px 1px rgba(60, 64, 67, 0.15);\n",
              "      fill: #174EA6;\n",
              "    }\n",
              "\n",
              "    [theme=dark] .colab-df-convert {\n",
              "      background-color: #3B4455;\n",
              "      fill: #D2E3FC;\n",
              "    }\n",
              "\n",
              "    [theme=dark] .colab-df-convert:hover {\n",
              "      background-color: #434B5C;\n",
              "      box-shadow: 0px 1px 3px 1px rgba(0, 0, 0, 0.15);\n",
              "      filter: drop-shadow(0px 1px 2px rgba(0, 0, 0, 0.3));\n",
              "      fill: #FFFFFF;\n",
              "    }\n",
              "  </style>\n",
              "\n",
              "      <script>\n",
              "        const buttonEl =\n",
              "          document.querySelector('#df-57b80625-1d1f-44fc-ae80-ed14e7869510 button.colab-df-convert');\n",
              "        buttonEl.style.display =\n",
              "          google.colab.kernel.accessAllowed ? 'block' : 'none';\n",
              "\n",
              "        async function convertToInteractive(key) {\n",
              "          const element = document.querySelector('#df-57b80625-1d1f-44fc-ae80-ed14e7869510');\n",
              "          const dataTable =\n",
              "            await google.colab.kernel.invokeFunction('convertToInteractive',\n",
              "                                                     [key], {});\n",
              "          if (!dataTable) return;\n",
              "\n",
              "          const docLinkHtml = 'Like what you see? Visit the ' +\n",
              "            '<a target=\"_blank\" href=https://colab.research.google.com/notebooks/data_table.ipynb>data table notebook</a>'\n",
              "            + ' to learn more about interactive tables.';\n",
              "          element.innerHTML = '';\n",
              "          dataTable['output_type'] = 'display_data';\n",
              "          await google.colab.output.renderOutput(dataTable, element);\n",
              "          const docLink = document.createElement('div');\n",
              "          docLink.innerHTML = docLinkHtml;\n",
              "          element.appendChild(docLink);\n",
              "        }\n",
              "      </script>\n",
              "    </div>\n",
              "  </div>\n",
              "  "
            ]
          },
          "metadata": {},
          "execution_count": 37
        }
      ]
    },
    {
      "cell_type": "markdown",
      "source": [
        "Já olhando as variáveis, já conseguimos definir quais são numéricas"
      ],
      "metadata": {
        "id": "04qU9kHr_U4Y"
      }
    },
    {
      "cell_type": "markdown",
      "source": [
        "O KPrototypes vai usar o KMeans pra clusterizar dados numéricos, o KMeans precisa de dados padronizados, tem que estar na mesma escala."
      ],
      "metadata": {
        "id": "hEaDmtjBAjyr"
      }
    },
    {
      "cell_type": "markdown",
      "source": [
        "A função scale vai padronizar para que todos os valores tem média 0 e padrão = 1 "
      ],
      "metadata": {
        "id": "SWX6kU7HAm6D"
      }
    },
    {
      "cell_type": "code",
      "source": [
        "# Padroniza dados numéricos\n",
        "numerical_columns = ['age', 'trestbps', 'chol', 'thalach', 'oldpeak']\n",
        "df_diabetes[numerical_columns] = df_diabetes[numerical_columns].apply(scale)"
      ],
      "metadata": {
        "id": "uYugME4K-QGn"
      },
      "execution_count": 38,
      "outputs": []
    },
    {
      "cell_type": "markdown",
      "source": [
        "Pra as variáveis categóricas preciso pegar o index de cada uma delas pra informar ao nosso modelo KPrototypes, ele pede a quantidade de grupos que se quer formar e quai o index das colunas referentes aos dados categóricos.\n",
        "\n",
        "columns.isin(categorical_columns) descobrir quais são categoricas \n",
        "\n",
        ".nonzero() pega os indices dela, pega todos os valores que não são zero.\n",
        "\n",
        ".tolist() passa pra uma lista "
      ],
      "metadata": {
        "id": "Eb_PuNzw_dyd"
      }
    },
    {
      "cell_type": "code",
      "source": [
        "# Define posições dos dados categóricos\n",
        "categorical_columns = ['sex', 'cp', 'fbs', 'restecg', 'exang', 'slope', 'ca', 'thal']\n",
        "categorical_idx = df_diabetes.columns.isin(categorical_columns).nonzero()[0].tolist()"
      ],
      "metadata": {
        "id": "KAbtouMI-ScO"
      },
      "execution_count": 39,
      "outputs": []
    },
    {
      "cell_type": "markdown",
      "source": [
        "Aplicando a modelagem\n",
        "\n",
        ".fit recebe x, y caso tenha e informar quais são os index das colunas categóricas"
      ],
      "metadata": {
        "id": "dxT5yALP_2Qs"
      }
    },
    {
      "cell_type": "code",
      "source": [
        "# Modelagem com KPrototypes\n",
        "model = KPrototypes()\n",
        "model.fit(df_diabetes, categorical=categorical_idx)"
      ],
      "metadata": {
        "colab": {
          "base_uri": "https://localhost:8080/",
          "height": 75
        },
        "id": "DsBYs2ta-WBG",
        "outputId": "668fe871-c110-40de-a971-9b6dbcc0c77f"
      },
      "execution_count": 40,
      "outputs": [
        {
          "output_type": "execute_result",
          "data": {
            "text/plain": [
              "KPrototypes(gamma=0.5)"
            ],
            "text/html": [
              "<style>#sk-container-id-2 {color: black;background-color: white;}#sk-container-id-2 pre{padding: 0;}#sk-container-id-2 div.sk-toggleable {background-color: white;}#sk-container-id-2 label.sk-toggleable__label {cursor: pointer;display: block;width: 100%;margin-bottom: 0;padding: 0.3em;box-sizing: border-box;text-align: center;}#sk-container-id-2 label.sk-toggleable__label-arrow:before {content: \"▸\";float: left;margin-right: 0.25em;color: #696969;}#sk-container-id-2 label.sk-toggleable__label-arrow:hover:before {color: black;}#sk-container-id-2 div.sk-estimator:hover label.sk-toggleable__label-arrow:before {color: black;}#sk-container-id-2 div.sk-toggleable__content {max-height: 0;max-width: 0;overflow: hidden;text-align: left;background-color: #f0f8ff;}#sk-container-id-2 div.sk-toggleable__content pre {margin: 0.2em;color: black;border-radius: 0.25em;background-color: #f0f8ff;}#sk-container-id-2 input.sk-toggleable__control:checked~div.sk-toggleable__content {max-height: 200px;max-width: 100%;overflow: auto;}#sk-container-id-2 input.sk-toggleable__control:checked~label.sk-toggleable__label-arrow:before {content: \"▾\";}#sk-container-id-2 div.sk-estimator input.sk-toggleable__control:checked~label.sk-toggleable__label {background-color: #d4ebff;}#sk-container-id-2 div.sk-label input.sk-toggleable__control:checked~label.sk-toggleable__label {background-color: #d4ebff;}#sk-container-id-2 input.sk-hidden--visually {border: 0;clip: rect(1px 1px 1px 1px);clip: rect(1px, 1px, 1px, 1px);height: 1px;margin: -1px;overflow: hidden;padding: 0;position: absolute;width: 1px;}#sk-container-id-2 div.sk-estimator {font-family: monospace;background-color: #f0f8ff;border: 1px dotted black;border-radius: 0.25em;box-sizing: border-box;margin-bottom: 0.5em;}#sk-container-id-2 div.sk-estimator:hover {background-color: #d4ebff;}#sk-container-id-2 div.sk-parallel-item::after {content: \"\";width: 100%;border-bottom: 1px solid gray;flex-grow: 1;}#sk-container-id-2 div.sk-label:hover label.sk-toggleable__label {background-color: #d4ebff;}#sk-container-id-2 div.sk-serial::before {content: \"\";position: absolute;border-left: 1px solid gray;box-sizing: border-box;top: 0;bottom: 0;left: 50%;z-index: 0;}#sk-container-id-2 div.sk-serial {display: flex;flex-direction: column;align-items: center;background-color: white;padding-right: 0.2em;padding-left: 0.2em;position: relative;}#sk-container-id-2 div.sk-item {position: relative;z-index: 1;}#sk-container-id-2 div.sk-parallel {display: flex;align-items: stretch;justify-content: center;background-color: white;position: relative;}#sk-container-id-2 div.sk-item::before, #sk-container-id-2 div.sk-parallel-item::before {content: \"\";position: absolute;border-left: 1px solid gray;box-sizing: border-box;top: 0;bottom: 0;left: 50%;z-index: -1;}#sk-container-id-2 div.sk-parallel-item {display: flex;flex-direction: column;z-index: 1;position: relative;background-color: white;}#sk-container-id-2 div.sk-parallel-item:first-child::after {align-self: flex-end;width: 50%;}#sk-container-id-2 div.sk-parallel-item:last-child::after {align-self: flex-start;width: 50%;}#sk-container-id-2 div.sk-parallel-item:only-child::after {width: 0;}#sk-container-id-2 div.sk-dashed-wrapped {border: 1px dashed gray;margin: 0 0.4em 0.5em 0.4em;box-sizing: border-box;padding-bottom: 0.4em;background-color: white;}#sk-container-id-2 div.sk-label label {font-family: monospace;font-weight: bold;display: inline-block;line-height: 1.2em;}#sk-container-id-2 div.sk-label-container {text-align: center;}#sk-container-id-2 div.sk-container {/* jupyter's `normalize.less` sets `[hidden] { display: none; }` but bootstrap.min.css set `[hidden] { display: none !important; }` so we also need the `!important` here to be able to override the default hidden behavior on the sphinx rendered scikit-learn.org. See: https://github.com/scikit-learn/scikit-learn/issues/21755 */display: inline-block !important;position: relative;}#sk-container-id-2 div.sk-text-repr-fallback {display: none;}</style><div id=\"sk-container-id-2\" class=\"sk-top-container\"><div class=\"sk-text-repr-fallback\"><pre>KPrototypes(gamma=0.5)</pre><b>In a Jupyter environment, please rerun this cell to show the HTML representation or trust the notebook. <br />On GitHub, the HTML representation is unable to render, please try loading this page with nbviewer.org.</b></div><div class=\"sk-container\" hidden><div class=\"sk-item\"><div class=\"sk-estimator sk-toggleable\"><input class=\"sk-toggleable__control sk-hidden--visually\" id=\"sk-estimator-id-2\" type=\"checkbox\" checked><label for=\"sk-estimator-id-2\" class=\"sk-toggleable__label sk-toggleable__label-arrow\">KPrototypes</label><div class=\"sk-toggleable__content\"><pre>KPrototypes(gamma=0.5)</pre></div></div></div></div></div>"
            ]
          },
          "metadata": {},
          "execution_count": 40
        }
      ]
    },
    {
      "cell_type": "markdown",
      "source": [
        "Esses abaixo são os clusters para cada um dos nossos dados"
      ],
      "metadata": {
        "id": "OMf8-SR7C-_f"
      }
    },
    {
      "cell_type": "code",
      "source": [
        "model.predict(df_diabetes, categorical=categorical_idx)"
      ],
      "metadata": {
        "colab": {
          "base_uri": "https://localhost:8080/"
        },
        "id": "GUsTgeo2-ant",
        "outputId": "5f68c8aa-1b45-4a42-9b03-cfd3eb1dcab8"
      },
      "execution_count": 41,
      "outputs": [
        {
          "output_type": "execute_result",
          "data": {
            "text/plain": [
              "array([1, 2, 2, 2, 6, 0, 6, 2, 0, 0, 0, 6, 2, 4, 6, 3, 6, 1, 2, 0, 4, 2,\n",
              "       2, 0, 2, 0, 0, 3, 5, 4, 2, 4, 2, 6, 3, 2, 6, 0, 0, 5, 6, 2, 3, 6,\n",
              "       6, 6, 2, 6, 7, 6, 6, 4, 4, 2, 6, 2, 2, 2, 2, 6, 4, 6, 2, 3, 0, 2,\n",
              "       3, 2, 2, 4, 4, 2, 2, 6, 2, 6, 3, 0, 2, 4, 2, 6, 6, 6, 3, 5, 4, 2,\n",
              "       3, 4, 2, 2, 2, 6, 3, 7, 5, 4, 6, 2, 2, 1, 0, 2, 2, 4, 0, 6, 2, 6,\n",
              "       0, 0, 6, 2, 6, 2, 2, 4, 2, 6, 7, 6, 2, 6, 2, 2, 3, 0, 2, 4, 0, 6,\n",
              "       2, 2, 6, 6, 7, 4, 3, 7, 6, 2, 2, 4, 7, 0, 2, 0, 2, 2, 1, 4, 0, 0,\n",
              "       2, 4, 2, 2, 4, 6, 2, 6, 2, 2, 2, 7, 7, 1, 4, 1, 4, 2, 4, 1, 7, 3,\n",
              "       4, 6, 3, 7, 5, 7, 6, 4, 1, 6, 7, 7, 2, 2, 6, 7, 7, 1, 1, 1, 1, 4,\n",
              "       7, 4, 2, 7, 7, 0, 1, 6, 4, 1, 3, 0, 4, 1, 3, 6, 4, 5, 7, 5, 1, 6,\n",
              "       5, 1, 4, 1, 3, 1, 7, 3, 0, 7, 2, 7, 0, 7, 7, 6, 6, 6, 4, 2, 1, 0,\n",
              "       1, 7, 7, 6, 5, 0, 0, 1, 1, 3, 7, 4, 0, 6, 7, 7, 0, 3, 0, 2, 7, 4,\n",
              "       7, 4, 1, 3, 7, 7, 3, 1, 7, 4, 3, 2, 7, 4, 6, 1, 3, 3, 7, 2, 7, 7,\n",
              "       0, 0, 5, 7, 0, 5, 1, 0, 3, 1, 4, 7, 7, 3, 1, 7, 6], dtype=uint16)"
            ]
          },
          "metadata": {},
          "execution_count": 41
        }
      ]
    },
    {
      "cell_type": "code",
      "source": [
        "# Avaliando modelo\n",
        "model.cost_"
      ],
      "metadata": {
        "colab": {
          "base_uri": "https://localhost:8080/"
        },
        "id": "-2OR5Dqe-bWf",
        "outputId": "25f35d79-3bcd-4c54-db86-903692ba379a"
      },
      "execution_count": 42,
      "outputs": [
        {
          "output_type": "execute_result",
          "data": {
            "text/plain": [
              "1053.3581184899256"
            ]
          },
          "metadata": {},
          "execution_count": 42
        }
      ]
    },
    {
      "cell_type": "code",
      "source": [
        "# Avaliando modelo\n",
        "custos = [\n",
        "    KPrototypes(K).fit(df_diabetes, categorical=categorical_idx).cost_\n",
        "    for K in range(2,11)\n",
        "    ]\n",
        "custos"
      ],
      "metadata": {
        "colab": {
          "base_uri": "https://localhost:8080/"
        },
        "id": "5g1nsYqE-d3I",
        "outputId": "8d2156c1-8deb-47bd-a22d-c86b479c186d"
      },
      "execution_count": 43,
      "outputs": [
        {
          "output_type": "execute_result",
          "data": {
            "text/plain": [
              "[1566.2403908950237,\n",
              " 1400.5307652004929,\n",
              " 1299.5221751222673,\n",
              " 1207.8251382964102,\n",
              " 1149.8608013678515,\n",
              " 1098.2782888447657,\n",
              " 1054.6736109501587,\n",
              " 1020.0578597573252,\n",
              " 986.9650935733497]"
            ]
          },
          "metadata": {},
          "execution_count": 43
        }
      ]
    },
    {
      "cell_type": "code",
      "source": [
        "pd.Series(custos, index=range(2,11)).plot()\n",
        "plt.xlabel('K')\n",
        "plt.ylabel('custo')\n",
        "plt.show()"
      ],
      "metadata": {
        "colab": {
          "base_uri": "https://localhost:8080/",
          "height": 513
        },
        "id": "cp8wgQyU-hRA",
        "outputId": "8eb3bebb-e358-4f0e-995d-4481cfef1229"
      },
      "execution_count": 44,
      "outputs": [
        {
          "output_type": "display_data",
          "data": {
            "text/plain": [
              "<Figure size 864x576 with 1 Axes>"
            ],
            "image/png": "[encoded data removed]"
          },
          "metadata": {}
        }
      ]
    },
    {
      "cell_type": "markdown",
      "source": [
        "Deu um valor próximo de k=7, 8. Então eu pegaria o 8 e começaria a descrever os clusters.A descrição dos clusters veremos mais a frente na prática."
      ],
      "metadata": {
        "id": "tqltcDkQD2NA"
      }
    }
  ]
}